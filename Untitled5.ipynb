{
  "nbformat": 4,
  "nbformat_minor": 0,
  "metadata": {
    "colab": {
      "provenance": [],
      "authorship_tag": "ABX9TyOOKh2x+7DaCACz1ZTzsK9K",
      "include_colab_link": true
    },
    "kernelspec": {
      "name": "python3",
      "display_name": "Python 3"
    },
    "language_info": {
      "name": "python"
    }
  },
  "cells": [
    {
      "cell_type": "markdown",
      "metadata": {
        "id": "view-in-github",
        "colab_type": "text"
      },
      "source": [
        "<a href=\"https://colab.research.google.com/github/Saran167/Loss-function-/blob/main/Untitled5.ipynb\" target=\"_parent\"><img src=\"https://colab.research.google.com/assets/colab-badge.svg\" alt=\"Open In Colab\"/></a>"
      ]
    },
    {
      "cell_type": "code",
      "execution_count": 1,
      "metadata": {
        "colab": {
          "base_uri": "https://localhost:8080/"
        },
        "id": "P_h1FJZCsk31",
        "outputId": "72375c08-2448-4ea4-b9c2-afb556226d80"
      },
      "outputs": [
        {
          "output_type": "stream",
          "name": "stdout",
          "text": [
            "Downloading data from https://www.cs.toronto.edu/~kriz/cifar-10-python.tar.gz\n",
            "\u001b[1m170498071/170498071\u001b[0m \u001b[32m━━━━━━━━━━━━━━━━━━━━\u001b[0m\u001b[37m\u001b[0m \u001b[1m4s\u001b[0m 0us/step\n",
            "Epoch 1, Loss: 0.2664\n"
          ]
        },
        {
          "output_type": "stream",
          "name": "stderr",
          "text": [
            "<ipython-input-1-cbda8ec52678>:8: RuntimeWarning: overflow encountered in exp\n",
            "  return 1 / (1 + np.exp(-x))\n"
          ]
        },
        {
          "output_type": "stream",
          "name": "stdout",
          "text": [
            "Epoch 2, Loss: 0.4989\n",
            "Epoch 3, Loss: 0.4978\n",
            "Epoch 4, Loss: 0.4986\n",
            "Epoch 5, Loss: 0.4987\n",
            "Epoch 6, Loss: 0.4994\n",
            "Epoch 7, Loss: 0.5001\n",
            "Epoch 8, Loss: 0.5002\n",
            "Epoch 9, Loss: 0.5006\n",
            "Epoch 10, Loss: 0.5009\n"
          ]
        }
      ],
      "source": [
        "import numpy as np\n",
        "import tensorflow as tf\n",
        "from tensorflow.keras.datasets import cifar10\n",
        "from sklearn.preprocessing import OneHotEncoder, StandardScaler\n",
        "\n",
        "# Define activation function\n",
        "def sigmoid(x):\n",
        "    return 1 / (1 + np.exp(-x))\n",
        "\n",
        "# Define loss function (Mean Squared Error)\n",
        "def loss_function(y_true, y_pred):\n",
        "    return np.mean((y_true - y_pred) ** 2)\n",
        "\n",
        "# Hebbian Neural Network class\n",
        "class HebbianNN:\n",
        "    def __init__(self, input_size, output_size, learning_rate=0.01):\n",
        "        self.weights = np.random.randn(input_size, output_size) * 0.01\n",
        "        self.learning_rate = learning_rate\n",
        "\n",
        "    def forward(self, X):\n",
        "        self.input = X\n",
        "        self.output = sigmoid(np.dot(X, self.weights))\n",
        "        return self.output\n",
        "\n",
        "    def hebbian_update(self):\n",
        "        self.weights += self.learning_rate * np.dot(self.input.T, self.output)\n",
        "\n",
        "    def train(self, X, y, epochs=10):\n",
        "        for epoch in range(epochs):\n",
        "            y_pred = self.forward(X)\n",
        "            loss = loss_function(y, y_pred)\n",
        "            self.hebbian_update()\n",
        "            print(f\"Epoch {epoch+1}, Loss: {loss:.4f}\")\n",
        "\n",
        "# Load CIFAR-10 dataset\n",
        "(X_train, y_train), (X_test, y_test) = cifar10.load_data()\n",
        "\n",
        "# Flatten images (32x32x3 -> 3072 features)\n",
        "X_train = X_train.reshape(X_train.shape[0], -1).astype(np.float32)\n",
        "X_test = X_test.reshape(X_test.shape[0], -1).astype(np.float32)\n",
        "\n",
        "# Normalize pixel values (0 to 1)\n",
        "X_train /= 255.0\n",
        "X_test /= 255.0\n",
        "\n",
        "# One-hot encode labels\n",
        "encoder = OneHotEncoder(sparse_output=False)\n",
        "y_train = encoder.fit_transform(y_train)\n",
        "y_test = encoder.transform(y_test)\n",
        "\n",
        "# Standardize features\n",
        "scaler = StandardScaler()\n",
        "X_train = scaler.fit_transform(X_train)\n",
        "X_test = scaler.transform(X_test)\n",
        "\n",
        "# Train the Hebbian Neural Network on CIFAR-10\n",
        "nn = HebbianNN(input_size=X_train.shape[1], output_size=y_train.shape[1], learning_rate=0.01)\n",
        "nn.train(X_train, y_train, epochs=10)\n"
      ]
    }
  ]
}